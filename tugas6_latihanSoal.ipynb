{
 "cells": [
  {
   "cell_type": "markdown",
   "id": "9d72b7b4-7abf-4cd2-aabb-659e0e1d723b",
   "metadata": {},
   "source": [
    "<h/>No.1 Buatlah program yang meminta pengguna memasukan usia seseorang, lalu tentukan apakah dia.Anak-anak(0-12 tahun) Remaja(13-17 tahun)Dewasa(18-59 tahun) atau Lansia(60 tahun ke atas)<h/>"
   ]
  },
  {
   "cell_type": "code",
   "execution_count": 1,
   "id": "cbcb99c4-0f74-4df1-a78f-2ef5ad573811",
   "metadata": {},
   "outputs": [
    {
     "name": "stdin",
     "output_type": "stream",
     "text": [
      "Masukan Usia : 44\n"
     ]
    },
    {
     "name": "stdout",
     "output_type": "stream",
     "text": [
      "Kategori Usia Anda Adalah : Dewasa\n"
     ]
    }
   ],
   "source": [
    "usia = int(input(\"Masukan Usia :\"))\n",
    "if usia <=12:\n",
    "    cekUsia = (\"Anak-anak\")\n",
    "elif usia <=17:\n",
    "    cekUsia = (\"Remaja\")\n",
    "elif usia <=59:\n",
    "    cekUsia = (\"Dewasa\")\n",
    "    print(\"Kategori Usia Anda Adalah :\",cekUsia)"
   ]
  },
  {
   "cell_type": "markdown",
   "id": "b6aa685d-092d-4e7c-9ac0-cfc4831cac94",
   "metadata": {},
   "source": [
    "<h1/>No.2<h1/>"
   ]
  },
  {
   "cell_type": "markdown",
   "id": "7f51bc11-6171-44f9-85da-bcb26f0fdfb4",
   "metadata": {},
   "source": [
    "<h/>Sebuah taman hiburan memiliki aturan harga tiket berdasarkan usia:\n",
    "    1.Anak-anak(0-12 tahun) 10.000\n",
    "    2.Remaja(13-17 tahun) 15.000\n",
    "    3. Dewasa(18-59 tahun) 25.000\n",
    "    4. Lansia(60 tahun ke atas) Gratis\n",
    "Buata program untuk menentukan harga tiket brdasarkan usia yang dimasukan pengguna dan total harga yang harus dibayar<h/> "
   ]
  },
  {
   "cell_type": "code",
   "execution_count": 19,
   "id": "36056622-79b6-4309-80ca-257ed6db91b5",
   "metadata": {},
   "outputs": [
    {
     "name": "stdin",
     "output_type": "stream",
     "text": [
      "Masukan Usia : 12\n",
      "Masukan Usia : 44\n",
      "Masukan Usia : 14\n"
     ]
    },
    {
     "name": "stdout",
     "output_type": "stream",
     "text": [
      "Anak-anak : 10000\n",
      "Dewasa : 25000\n",
      "Remaja : 15000\n",
      "Total pembayaran : 50000\n"
     ]
    }
   ],
   "source": [
    "tiket1 = int(input(\"Masukan Usia :\"))\n",
    "tiket2 = int(input(\"Masukan Usia :\"))\n",
    "tiket3 = int(input(\"Masukan Usia :\"))\n",
    "\n",
    "\n",
    "if tiket1 <= 12:\n",
    "    harga1 = 10000\n",
    "    print(\"Anak-anak :\",harga1)\n",
    "elif 13 <= tiket1 <= 17:\n",
    "    harga1 = 15000\n",
    "    print(\"Remaja :\",harga1)\n",
    "elif 18 <= tiket1 <= 59:\n",
    "    harga1 = 25000\n",
    "    print(\"Dewasa :\",harga1)\n",
    "elif tiket1 >= 60:\n",
    "    harga1 = 0\n",
    "    print(\"Lansia :\",harga1)\n",
    "\n",
    "if tiket2 <= 12:\n",
    "    harga2 = 10000\n",
    "    print(\"Anak-anak :\",harga2)\n",
    "elif 13 <= tiket2 <= 17:\n",
    "    harga2 = 15000\n",
    "    print(\"Remaja :\",harga2)\n",
    "elif 18 <= tiket2 <= 59:\n",
    "    harga2 = 25000\n",
    "    print(\"Dewasa :\",harga2)\n",
    "elif tiket2 >= 60:\n",
    "    harga2 = 0\n",
    "    print(\"Lansia :\",harga2)\n",
    "\n",
    "if tiket3 <= 12:\n",
    "    harga3 = 10000\n",
    "    print(\"Anak-anak :\",harga3)\n",
    "elif 13 <= tiket3 <= 17:\n",
    "    harga3 = 15000\n",
    "    print(\"Remaja :\",harga3)\n",
    "elif 18 <= tiket3 <= 59:\n",
    "    harga3 = 25000\n",
    "    print(\"Dewasa :\",harga3)\n",
    "elif tiket3 >= 60:\n",
    "    harga3 = 0\n",
    "    print(\"Lansia :\",harga3)\n",
    "\n",
    "print(\"Total pembayaran :\",harga1 + harga2 + harga3)\n",
    "\n",
    "\n"
   ]
  },
  {
   "cell_type": "markdown",
   "id": "228670a0-7bba-4326-a26b-ad387438c125",
   "metadata": {},
   "source": [
    "<h/>sebuah restoran memiliki diskon khusus: anak-anak(0-12 tahun) diskon 50% Lansia(60 tahun ke atas diskon 30%). Selain itu tidak ada diskon. buatlah program untuk menghitung harga yang harus dibayar setelah diskon diberikan<h/>"
   ]
  },
  {
   "cell_type": "code",
   "execution_count": 2,
   "id": "f5985bfc-35d3-4dab-83d8-702e73ef65ac",
   "metadata": {},
   "outputs": [
    {
     "name": "stdin",
     "output_type": "stream",
     "text": [
      "masukan umur anda : 13\n"
     ]
    },
    {
     "name": "stdout",
     "output_type": "stream",
     "text": [
      "\n",
      "===MENU MAKAN===\n",
      "nasi goreng(1)\n",
      "nasi uduk(2)\n",
      "mie kuah(3)\n",
      "mie goreng(4)\n",
      "\n"
     ]
    },
    {
     "name": "stdin",
     "output_type": "stream",
     "text": [
      "pili menu makanan : 1\n"
     ]
    },
    {
     "name": "stdout",
     "output_type": "stream",
     "text": [
      "\n",
      "===MENU minum===\n",
      "susu(1)\n",
      "es kelapa(2)\n",
      "jus(3)\n",
      "\n"
     ]
    },
    {
     "name": "stdin",
     "output_type": "stream",
     "text": [
      "pili menu minum : 3\n"
     ]
    },
    {
     "ename": "NameError",
     "evalue": "name 'minum' is not defined",
     "output_type": "error",
     "traceback": [
      "\u001b[1;31m---------------------------------------------------------------------------\u001b[0m",
      "\u001b[1;31mNameError\u001b[0m                                 Traceback (most recent call last)",
      "Cell \u001b[1;32mIn[2], line 32\u001b[0m\n\u001b[0;32m     29\u001b[0m \u001b[38;5;28mprint\u001b[39m(\u001b[38;5;124m\"\u001b[39m\u001b[38;5;124m\"\u001b[39m)\n\u001b[0;32m     30\u001b[0m makan \u001b[38;5;241m=\u001b[39m \u001b[38;5;28mint\u001b[39m(\u001b[38;5;28minput\u001b[39m(\u001b[38;5;124m\"\u001b[39m\u001b[38;5;124mpili menu minum :\u001b[39m\u001b[38;5;124m\"\u001b[39m))\n\u001b[1;32m---> 32\u001b[0m \u001b[38;5;28;01mif\u001b[39;00m minum \u001b[38;5;241m==\u001b[39m \u001b[38;5;241m1\u001b[39m:\n\u001b[0;32m     33\u001b[0m     hargaMinum \u001b[38;5;241m=\u001b[39m menuMinum[\u001b[38;5;241m0\u001b[39m][\u001b[38;5;241m1\u001b[39m]\n\u001b[0;32m     34\u001b[0m \u001b[38;5;28;01melif\u001b[39;00m minum \u001b[38;5;241m==\u001b[39m \u001b[38;5;241m2\u001b[39m:\n",
      "\u001b[1;31mNameError\u001b[0m: name 'minum' is not defined"
     ]
    }
   ],
   "source": [
    "# menuMakan = [[\"nasi goreng\", 15000],[\"nasi uduk\", 13000],[\"mie kuah\", 12000],[\"mie goreng\",12000]]\n",
    "menuMinum = [[\"susu\",4000],[\"es kelapa\",5000],[\"jus\",7000]]\n",
    "\n",
    "umur = int(input(\"masukan umur anda :\"))\n",
    "\n",
    "print(\"\")\n",
    "print(\"===MENU MAKAN===\")\n",
    "print(\"nasi goreng(1)\")\n",
    "print(\"nasi uduk(2)\")\n",
    "print(\"mie kuah(3)\")\n",
    "print(\"mie goreng(4)\")\n",
    "print(\"\")\n",
    "makan = int(input(\"pili menu makanan :\"))\n",
    "\n",
    "if makan == 1:\n",
    "    hargaMakan = menuMakan[0][1]\n",
    "elif makan == 2:\n",
    "    hargaMakan = menuMakan[1][1]\n",
    "elif makan == 3:\n",
    "    hargaMakan = menuMakan[2][1]\n",
    "elif makan == 4:\n",
    "    hargaMakan = menuMakan[3][1]\n",
    "\n",
    "print(\"\")\n",
    "print(\"===MENU minum===\")\n",
    "print(\"susu(1)\")\n",
    "print(\"es kelapa(2)\")\n",
    "print(\"jus(3)\")\n",
    "print(\"\")\n",
    "makan = int(input(\"pili menu minum :\"))\n",
    "\n",
    "if minum == 1:\n",
    "    hargaMinum = menuMinum[0][1]\n",
    "elif minum == 2:\n",
    "    hargaMinum = menuMinum[1][1]\n",
    "elif minum == 3:\n",
    "    hargaMinum = menuMinum[2][1]\n",
    "\n",
    "if umur <= 12 :\n",
    "    diskon = 50\n",
    "    diskonRp = (hargaMakan + hargaMinum) * 50/100\n",
    "elif 13 <= umur <= 59 :\n",
    "    diskon = 0\n",
    "    diskonRp = 0\n",
    "elif umur >= 60 :\n",
    "    diskon = 30\n",
    "    diskonRp = (hargaMakan + hargaMinum) * 30/100\n",
    "total = (hargaMakan + hargaMinum) - diskonRp\n",
    "print(\"=============\")\n",
    "print(f\"total dari pesanan anda dengan diskon sebesar {diskon}% yaitu {total}\")\n",
    "\n",
    "\n",
    "\n",
    "\n",
    "\n",
    "\n"
   ]
  },
  {
   "cell_type": "code",
   "execution_count": null,
   "id": "d85b26af-5b07-401b-bbe9-f95b8254b994",
   "metadata": {},
   "outputs": [],
   "source": []
  }
 ],
 "metadata": {
  "kernelspec": {
   "display_name": "Python 3 (ipykernel)",
   "language": "python",
   "name": "python3"
  },
  "language_info": {
   "codemirror_mode": {
    "name": "ipython",
    "version": 3
   },
   "file_extension": ".py",
   "mimetype": "text/x-python",
   "name": "python",
   "nbconvert_exporter": "python",
   "pygments_lexer": "ipython3",
   "version": "3.12.7"
  }
 },
 "nbformat": 4,
 "nbformat_minor": 5
}
